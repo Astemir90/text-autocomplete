{
 "cells": [
  {
   "cell_type": "markdown",
   "id": "99dc4c0f",
   "metadata": {},
   "source": [
    "# Импорты и конфиги"
   ]
  },
  {
   "cell_type": "code",
   "execution_count": 4,
   "id": "89d73e9b",
   "metadata": {},
   "outputs": [],
   "source": [
    "from src.data_utils import clean_string, create_vocabs, tokenize_text\n",
    "from sklearn.model_selection import train_test_split\n",
    "from src.next_token_dataset import TrainDataset, ValDataset, collate_fn\n",
    "from torch.utils.data import DataLoader\n",
    "import torch\n",
    "import torch.nn as nn\n",
    "import yaml\n",
    "from src.lstm_model import LSTMModel\n",
    "from src.lstm_train import model_train\n",
    "from src.eval_transformer_pipeline import pretrained_model_rouge\n",
    "from transformers import pipeline"
   ]
  },
  {
   "cell_type": "code",
   "execution_count": 5,
   "id": "c28762c0",
   "metadata": {},
   "outputs": [],
   "source": [
    "# функция чтения конфиг\n",
    "with open('configs/config.yaml', 'r', encoding='utf-8') as file:\n",
    "    config = yaml.safe_load(file)"
   ]
  },
  {
   "cell_type": "markdown",
   "id": "6bebcf5e",
   "metadata": {},
   "source": [
    "# Сбор и подготовка данных"
   ]
  },
  {
   "cell_type": "code",
   "execution_count": 6,
   "id": "fe0b4cc8",
   "metadata": {},
   "outputs": [],
   "source": [
    "# импорт датасета\n",
    "with open('data/short_dataset.txt', 'r', encoding='utf-8') as file:\n",
    "    texts = [line.strip() for line in file]"
   ]
  },
  {
   "cell_type": "code",
   "execution_count": 7,
   "id": "ae6b880f",
   "metadata": {},
   "outputs": [],
   "source": [
    "# чистим тексты\n",
    "texts = list(map(clean_string, texts))\n",
    "# создаем словари\n",
    "vocab, reverse_vocab, vocab_size = create_vocabs(texts)\n",
    "# токенизируем\n",
    "indexed_texts = tokenize_text(texts, vocab)"
   ]
  },
  {
   "cell_type": "code",
   "execution_count": 8,
   "id": "63525df3",
   "metadata": {},
   "outputs": [],
   "source": [
    "# сохранение очищенного и токенизированного датасета\n",
    "with open('data/dataset_processed.csv', 'w', encoding='utf-8') as file:\n",
    "    for tokens in indexed_texts:\n",
    "        file.write(f'{tokens}\\n')"
   ]
  },
  {
   "cell_type": "code",
   "execution_count": 9,
   "id": "c7e78e80",
   "metadata": {},
   "outputs": [],
   "source": [
    "# разделение на обучающую, валидационную и тестовую выборки\n",
    "train, temp = train_test_split(indexed_texts, test_size = .2, shuffle = False)\n",
    "val, test = train_test_split(temp, test_size = .5, shuffle = False)\n",
    "\n",
    "# сохранение выборок\n",
    "with open('data/train.csv', 'w', encoding = 'utf-8') as file:\n",
    "    for tokens in train:\n",
    "        file.write(f'{tokens}\\n')\n",
    "\n",
    "with open('data/val.csv', 'w', encoding = 'utf-8') as file:\n",
    "    for tokens in val:\n",
    "        file.write(f'{tokens}\\n')\n",
    "\n",
    "with open('data/test.csv', 'w', encoding = 'utf-8') as file:\n",
    "    for tokens in test:\n",
    "        file.write(f'{tokens}\\n')"
   ]
  },
  {
   "cell_type": "code",
   "execution_count": 10,
   "id": "dfbd4a57",
   "metadata": {},
   "outputs": [],
   "source": [
    "# создаем Dataset-ы\n",
    "train_dataset = TrainDataset(train)\n",
    "val_dataset = ValDataset(val)\n",
    "test_dataset = ValDataset(test)\n",
    "\n",
    "# создаем DataLoader-ы\n",
    "batch_size = config['lstm_model']['batch_size']\n",
    "train_loader = DataLoader(train_dataset, batch_size=batch_size, shuffle=True, collate_fn=collate_fn)\n",
    "val_loader = DataLoader(val_dataset, batch_size=batch_size, collate_fn=collate_fn)\n",
    "test_loader = DataLoader(test_dataset, batch_size=batch_size, collate_fn=collate_fn)"
   ]
  },
  {
   "cell_type": "markdown",
   "id": "8610697f",
   "metadata": {},
   "source": [
    "# Объявление модели"
   ]
  },
  {
   "cell_type": "code",
   "execution_count": 11,
   "id": "17f6e44c",
   "metadata": {},
   "outputs": [],
   "source": [
    "# объявление модели\n",
    "model = LSTMModel(vocab_size)\n",
    "criterion = nn.CrossEntropyLoss(ignore_index=0)\n",
    "optimizer = torch.optim.Adam(model.parameters(), lr=config['lstm_model']['lr'])"
   ]
  },
  {
   "cell_type": "markdown",
   "id": "9c326960",
   "metadata": {},
   "source": [
    "# Тренировка модели"
   ]
  },
  {
   "cell_type": "code",
   "execution_count": 12,
   "id": "8dd37914",
   "metadata": {},
   "outputs": [
    {
     "name": "stdout",
     "output_type": "stream",
     "text": [
      "Результаты модели LSTM\n",
      "Epoch 1, Train Loss: 7.0070, val_ROUGE-1: 0.0174, val_ROUGE-2: 0.0000\n",
      "Epoch 2, Train Loss: 6.9347, val_ROUGE-1: 0.0000, val_ROUGE-2: 0.0000\n",
      "Epoch 3, Train Loss: 6.9138, val_ROUGE-1: 0.0190, val_ROUGE-2: 0.0000\n",
      "Matched cases on validation (generated, target):\n",
      "Unmatched cases on validation (generated, target):\n",
      "('how my double to like to wanted that break together so running had me first went the im of i', 'ciscos page shoot')\n",
      "('another of writers how now hurts for twitterapplication are weak outside i shock siss still dogs delivers something right hes', 'gets btr 2day')\n",
      "('cereal a in hemotologistgabbers but how to are oo the', 'left for us')\n",
      "('fault i dang to in mirrors the some fighting office dont up this last time my am', 'in bed with me')\n",
      "('and roo to tears', 'twitter updating')\n"
     ]
    }
   ],
   "source": [
    "# обучение модели и выведение метрик\n",
    "n_epochs=config['lstm_train']['n_epochs']\n",
    "result = model_train(model, optimizer, criterion, vocab_size, train_loader, val_loader, reverse_vocab, n_epochs)\n",
    "print('Результаты модели LSTM')\n",
    "for item in result:\n",
    "    print(str(item))"
   ]
  },
  {
   "cell_type": "code",
   "execution_count": 13,
   "id": "bb658674",
   "metadata": {},
   "outputs": [],
   "source": [
    "# сохранение весов модели\n",
    "torch.save(model.state_dict(), 'models/lstm_model_weights.pth')"
   ]
  },
  {
   "cell_type": "markdown",
   "id": "34b40017",
   "metadata": {},
   "source": [
    "# Использование предобученного трансформера"
   ]
  },
  {
   "cell_type": "code",
   "execution_count": 14,
   "id": "b99cbca9",
   "metadata": {},
   "outputs": [
    {
     "name": "stderr",
     "output_type": "stream",
     "text": [
      "Device set to use cpu\n"
     ]
    },
    {
     "name": "stdout",
     "output_type": "stream",
     "text": [
      "Результаты предобученного трансформера\n",
      "val_ROUGE-1: 0.2224, val_ROUGE-2: 0.0957\n",
      "Matched cases on validation (generated, target):\n",
      "Unmatched cases on validation (generated, target):\n",
      "('sleep i am so happy i will not be able to sleep i had to sleep i had to sleep', 'whoops i got a little too happy doesnt work takes me to ciscos page shoot')\n",
      "('3 y4yrs amp 2 mos hope u 4yr old 3 y4yrs amp 3 mos hope', 'wow kudos 2 u 4yrs amp 3 mos hope ur 4yr old gets btr 2day')\n",
      "(\"issues with it. I have been using it since I was the 11th grade. It's a\", 'there is a higher coptodonut ratio today so there arent any left for us')\n",
      "('down on one of his legs. i just wanna be like to me, i just want to be', 'missing his babe i just want him to come back home and lie in bed with me')\n",
      "(\"first game, I've been playing this game for 1 year and I've been playing it all season\", 'im getting really lazy with my twitter updating')\n"
     ]
    }
   ],
   "source": [
    "# использование предобученного трансформера\n",
    "generator = pipeline('text-generation', model='distilgpt2')\n",
    "result = pretrained_model_rouge(generator, val_loader, reverse_vocab, top_k=config['transformer']['top_k'], \n",
    "    max_new_tokens=config['transformer']['max_new_tokens'])\n",
    "print('Результаты предобученного трансформера')\n",
    "for item in result:\n",
    "    print(str(item))"
   ]
  },
  {
   "cell_type": "markdown",
   "id": "5472937f",
   "metadata": {},
   "source": [
    "# Формулирование выводов"
   ]
  },
  {
   "cell_type": "code",
   "execution_count": null,
   "id": "7b310ad2",
   "metadata": {},
   "outputs": [],
   "source": []
  }
 ],
 "metadata": {
  "kernelspec": {
   "display_name": ".venv (3.12.8)",
   "language": "python",
   "name": "python3"
  },
  "language_info": {
   "codemirror_mode": {
    "name": "ipython",
    "version": 3
   },
   "file_extension": ".py",
   "mimetype": "text/x-python",
   "name": "python",
   "nbconvert_exporter": "python",
   "pygments_lexer": "ipython3",
   "version": "3.12.8"
  }
 },
 "nbformat": 4,
 "nbformat_minor": 5
}
